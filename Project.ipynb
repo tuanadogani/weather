{
 "cells": [
  {
   "cell_type": "code",
   "execution_count": 1,
   "id": "bea45fcc-1958-414b-98e1-9255d458c14e",
   "metadata": {},
   "outputs": [
    {
     "name": "stderr",
     "output_type": "stream",
     "text": [
      "/Users/elift/Library/Python/3.9/lib/python/site-packages/urllib3/__init__.py:35: NotOpenSSLWarning: urllib3 v2 only supports OpenSSL 1.1.1+, currently the 'ssl' module is compiled with 'LibreSSL 2.8.3'. See: https://github.com/urllib3/urllib3/issues/3020\n",
      "  warnings.warn(\n"
     ]
    }
   ],
   "source": [
    "import requests\n"
   ]
  },
  {
   "cell_type": "code",
   "execution_count": null,
   "id": "1505c860-9c2d-4f9c-af7d-b35349aec05e",
   "metadata": {},
   "outputs": [],
   "source": [
    "base_url = \"https://climate.weather.gc.ca/climate_data/bulk_data_e.html\""
   ]
  },
  {
   "cell_type": "code",
   "execution_count": 2,
   "id": "66e87187-ae24-4446-8ebf-b5d70fe8fc1b",
   "metadata": {},
   "outputs": [],
   "source": [
    "years = [2023, 2024]\n",
    "stations = [26953, 31688]"
   ]
  },
  {
   "cell_type": "code",
   "execution_count": null,
   "id": "9c5fa476-d924-45ca-8ef0-e05dce823dcf",
   "metadata": {},
   "outputs": [],
   "source": [
    "for year in years:\n",
    "    for staionID in stations: \n",
    "        url = f\"{base_url}?format=csv&stationID={stationID}&Year={year}"
   ]
  }
 ],
 "metadata": {
  "kernelspec": {
   "display_name": "Python 3 (ipykernel)",
   "language": "python",
   "name": "python3"
  },
  "language_info": {
   "codemirror_mode": {
    "name": "ipython",
    "version": 3
   },
   "file_extension": ".py",
   "mimetype": "text/x-python",
   "name": "python",
   "nbconvert_exporter": "python",
   "pygments_lexer": "ipython3",
   "version": "3.9.6"
  }
 },
 "nbformat": 4,
 "nbformat_minor": 5
}
